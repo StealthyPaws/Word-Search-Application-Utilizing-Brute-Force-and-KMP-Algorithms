{
 "cells": [
  {
   "cell_type": "code",
   "execution_count": 1,
   "id": "4801b683-77af-43fc-901e-447d16f03b1c",
   "metadata": {},
   "outputs": [
    {
     "data": {
      "text/plain": [
       "False"
      ]
     },
     "execution_count": 1,
     "metadata": {},
     "output_type": "execute_result"
    }
   ],
   "source": [
    "import string\n",
    "import time\n",
    "import numpy as np\n",
    "import re\n",
    "from tkinter import *\n",
    "import tkinter as tk\n",
    "\n",
    "a = \"ab\"\n",
    "b = \"ab\"\n",
    "a in b and a!=b"
   ]
  },
  {
   "cell_type": "markdown",
   "id": "ee25c475-8f46-4715-b374-c152617bfaba",
   "metadata": {},
   "source": [
    "# BRUTE FORCE"
   ]
  },
  {
   "cell_type": "code",
   "execution_count": 28,
   "id": "4cab577f-32a7-4463-8719-cc554117c0a5",
   "metadata": {},
   "outputs": [],
   "source": [
    "pat =  \"pean\" #\"pean\" \"Page 5 of 5\"\n",
    "text = \"\" \n",
    "for i in range(1,11):\n",
    "    filename = \"Research#\" + str(i) + \".txt\"\n",
    "    with open(filename ,'r', encoding = 'utf-8') as file:\n",
    "        # text += str(\"Research#\" + str(i)) + file.read() \n",
    "        # text += str(np.nan) + file.read() \n",
    "        text += \"^\" + file.read()\n",
    "# text=text[:10].lower()\n",
    "# # r\"Research#[1-9]\"\n",
    "# text = \"I,love,you\\n Iloveyou\\n I love you\"\n",
    "# pat = \"I love you\""
   ]
  },
  {
   "cell_type": "code",
   "execution_count": 30,
   "id": "523151a7-c991-405b-97f1-a8c381d07b54",
   "metadata": {},
   "outputs": [
    {
     "name": "stdout",
     "output_type": "stream",
     "text": [
      "doc num:  2 row num:  13 col no:  37  found at index:  6169 pean pat\n",
      "doc num:  2 row num:  14 col no:  9  found at index:  6200 pean pat\n",
      "doc num:  2 row num:  14 col no:  79  found at index:  6270 pean pat\n",
      "doc num:  2 row num:  14 col no:  123  found at index:  6314 pean pat\n",
      "doc num:  2 row num:  14 col no:  153  found at index:  6344 pean pat\n",
      "doc num:  2 row num:  14 col no:  197  found at index:  6388 pean pat\n",
      "doc num:  2 row num:  14 col no:  223  found at index:  6414 pean pat\n",
      "doc num:  2 row num:  14 col no:  265  found at index:  6456 pean pat\n",
      "doc num:  2 row num:  14 col no:  339  found at index:  6530 pean pat\n",
      "doc num:  2 row num:  14 col no:  377  found at index:  6568 pean pat\n",
      "doc num:  5 row num:  110 col no:  430  found at index:  107269 pean Com\n",
      "doc num:  5 row num:  110 col no:  713  found at index:  107552 pean sta\n",
      "doc num:  5 row num:  185 col no:  128  found at index:  120957 pean Uni\n",
      "doc num:  5 row num:  186 col no:  80  found at index:  121086 pean Com\n",
      "doc num:  6 row num:  15 col no:  110  found at index:  126378 pean pat\n",
      "doc num:  10 row num:  387 col no:  24  found at index:  433726 pean Con\n",
      "found_whole 0\n",
      "found 16\n",
      "\n",
      "\n",
      "\n",
      "\n",
      "doc num:  2 row num:  13 col no:  37 found whole at index:  6169   pean pat\n",
      "doc num:  2 row num:  14 col no:  9 found whole at index:  6200   pean pat\n",
      "doc num:  2 row num:  14 col no:  79 found whole at index:  6270   pean pat\n",
      "doc num:  2 row num:  14 col no:  123 found whole at index:  6314   pean pat\n",
      "doc num:  2 row num:  14 col no:  153 found whole at index:  6344   pean pat\n",
      "doc num:  2 row num:  14 col no:  197 found whole at index:  6388   pean pat\n",
      "doc num:  2 row num:  14 col no:  223 found whole at index:  6414   pean pat\n",
      "doc num:  2 row num:  14 col no:  265 found whole at index:  6456   pean pat\n",
      "doc num:  2 row num:  14 col no:  339 found whole at index:  6530   pean pat\n",
      "doc num:  2 row num:  14 col no:  377 found whole at index:  6568   pean pat\n",
      "doc num:  5 row num:  110 col no:  430 found whole at index:  107269   pean com\n",
      "doc num:  5 row num:  110 col no:  713 found whole at index:  107552   pean sta\n",
      "doc num:  5 row num:  185 col no:  128 found whole at index:  120957   pean uni\n",
      "doc num:  5 row num:  186 col no:  80 found whole at index:  121086   pean com\n",
      "doc num:  6 row num:  15 col no:  110 found whole at index:  126378   pean pat\n",
      "doc num:  10 row num:  387 col no:  24 found whole at index:  433726   pean con\n",
      "found_whole 16\n",
      "found 0\n"
     ]
    },
    {
     "data": {
      "text/plain": [
       "-0.1927967071533203"
      ]
     },
     "execution_count": 30,
     "metadata": {},
     "output_type": "execute_result"
    }
   ],
   "source": [
    "def Brute_Force(text, pat,case_sensitive=False, as_substr=True):\n",
    "    start_time = time.time()\n",
    "    found = 0\n",
    "    found_whole= 0\n",
    "    rownum= 1 \n",
    "    colnum = 0\n",
    "    docnum = 0\n",
    "    m = len(pat)\n",
    "    n = len(text)\n",
    "    if not case_sensitive:\n",
    "        text = text.lower()\n",
    "        pat = pat.lower()\n",
    "    for i in range(len(text)):\n",
    "        c = 0\n",
    "        if text[i] == '\\n':\n",
    "            rownum += 1\n",
    "            colnum = 0\n",
    "        # if re.match(r\"Research#[1-10]\", text[i:i+10]):\n",
    "        if text[i] == '^':\n",
    "            docnum += 1\n",
    "            rownum, colnum = 1,0\n",
    "            continue\n",
    "        for j in range(len(pat)):\n",
    "            c+=1\n",
    "            if text[i+j] != pat[j]:\n",
    "                c = 0\n",
    "                break\n",
    "        if as_substr and c == m:\n",
    "            print(\"doc num: \",docnum, \"row num: \" , rownum,\"col no: \", colnum, \" found at index: \", i, text[i:i+j+5])\n",
    "            # result_label = Label(root,\n",
    "            #                          text=f\"Doc num: {docnum} | Row num: {rownum} | Col num: {colnum - m + 1} | Pattern FOUND!\",\n",
    "            #                          font=(\"Helvetica\", 12, \"bold\"),\n",
    "            #                          fg=\"#8B008B\",\n",
    "            #                          bg=\"#FFB6C1\",\n",
    "            #                          padx=10, pady=10,\n",
    "            #                          relief=\"groove\", borderwidth=5)\n",
    "            # result_label.pack(pady=10)\n",
    "            found+=1\n",
    "            \n",
    "        if i + m > n:\n",
    "                break\n",
    "        \n",
    "        if not as_substr and c == m and ((i == 0 or not text[i - 1].isalnum()) and (i + m >= n) or not text[i + len(pat)].isalnum()):\n",
    "            print(\"doc num: \",docnum, \"row num: \" , rownum,\"col no: \", colnum, \"found whole at index: \",i, \" \", text[i:i+j+5])\n",
    "            # result_label = Label(root,\n",
    "            #                          text=f\"Doc num: {docnum} | Row num: {rownum} | Col num: {colnum - m + 1} | Pattern FOUND!\",\n",
    "            #                          font=(\"Helvetica\", 12, \"bold\"),\n",
    "            #                          fg=\"#8B008B\",\n",
    "            #                          bg=\"#FFB6C1\",\n",
    "            #                          padx=10, pady=10,\n",
    "            #                          relief=\"groove\", borderwidth=5)\n",
    "            # result_label.pack(pady=10)\n",
    "            found_whole+=1\n",
    "        colnum+=1\n",
    "    end_time = time.time()\n",
    "    print('found_whole',found_whole)\n",
    "    print('found',found)  \n",
    "    time_taken = start_time - end_time\n",
    "    return time_taken\n",
    "\n",
    "Brute_Force(text, pat, True, True)\n",
    "print('\\n\\n\\n')\n",
    "Brute_Force(text, pat, False, False)"
   ]
  },
  {
   "cell_type": "code",
   "execution_count": 8,
   "id": "b25920d0-8e82-407f-8058-44158326949b",
   "metadata": {},
   "outputs": [],
   "source": [
    "a= 0\n",
    "for i in text.lower().split():\n",
    "    if pat == i:\n",
    "        print(\"found as it is\")\n",
    "        print(i)\n",
    "        \n",
    "    if pat in i and pat!=i:\n",
    "        print(\"found as substr \")\n",
    "        print(i)\n",
    "        a+=1\n",
    "    # print(pat, i)\n",
    "    "
   ]
  },
  {
   "cell_type": "markdown",
   "id": "24199287-bd1e-4800-9e37-689253780afc",
   "metadata": {},
   "source": [
    "# KMP MATCHING"
   ]
  },
  {
   "cell_type": "code",
   "execution_count": 16,
   "id": "df1b6662-75b8-4691-b41b-e66ac9769c4f",
   "metadata": {},
   "outputs": [],
   "source": [
    "def prefix_function(p):\n",
    "    m = len(p)\n",
    "    prefix = np.zeros(m, dtype='int')\n",
    "    prefix[0] = 0\n",
    "    k = 0\n",
    "    # print(p[k+1])\n",
    "    for q in range(1,m):\n",
    "        while k > 0 and p[k] != p[q]:\n",
    "            k = prefix[k-1]\n",
    "        if p[k] == p[q]:\n",
    "            k += 1\n",
    "        prefix[q] = k\n",
    "        # print(k, prefix)\n",
    "    return prefix.astype('int')"
   ]
  },
  {
   "cell_type": "code",
   "execution_count": 22,
   "id": "f839da51-7c1d-40b6-afee-39085c89bf99",
   "metadata": {},
   "outputs": [],
   "source": [
    "def kmp_matcher(s, p,case_sensitive=False, as_whole=True):\n",
    "    start_time = time.time()\n",
    "    if not case_sensitive:\n",
    "        s = s.lower()\n",
    "        p = p.lower()\n",
    "    n = len(s)\n",
    "    m = len(p)\n",
    "    prefix = prefix_function(p)\n",
    "    q = 0\n",
    "    found, found_whole = 0,0\n",
    "    rownum, colnum, docnum = 1,0,0\n",
    "    for i in range(n):\n",
    "        if s[i] == '\\n':\n",
    "            rownum +=1\n",
    "            colnum = 0\n",
    "        if s[i] == \"^\":\n",
    "            docnum += 1\n",
    "            rownum, colnum = 1,0\n",
    "        while q > 0  and p[q] != s[i]:\n",
    "            q = prefix[q-1]\n",
    "        if p[q] == s[i]:\n",
    "            q +=1\n",
    "        if q == m:\n",
    "            if as_whole and ((i - m < 0 or not s[i - m].isalnum()) and (i + 1 >= n or not s[i + 1].isalnum())):\n",
    "                print(\"doc num: \",docnum, \"row num: \" , rownum,\"col no: \", colnum-m+1, \"Pattern occcurs with shift as whole\", i-m+1,text[i-m+1: i+5])\n",
    "                # result_label = Label(root,\n",
    "                #                      text=f\"Doc num: {docnum} | Row num: {rownum} | Col num: {colnum - m + 1} | Pattern FOUND!\",\n",
    "                #                      font=(\"Helvetica\", 12, \"bold\"),\n",
    "                #                      fg=\"#8B008B\",\n",
    "                #                      bg=\"#FFB6C1\",\n",
    "                #                      padx=10, pady=10,\n",
    "                #                      relief=\"groove\", borderwidth=5)\n",
    "                # result_label.pack(pady=10)\n",
    "                found_whole+=1\n",
    "            elif not as_whole:\n",
    "                print(\"doc num: \",docnum, \"row num: \" , rownum,\"col no: \", colnum-m+1, \"Pattern occcurs with shift as substr\", i-m+1,text[i-m+1: i+5])\n",
    "                # result_label = Label(root,\n",
    "                #                      text=f\"Doc num: {docnum} | Row num: {rownum} | Col num: {colnum - m + 1} | Pattern FOUND!\",\n",
    "                #                      font=(\"Helvetica\", 12, \"bold\"),\n",
    "                #                      fg=\"#8B008B\",\n",
    "                #                      bg=\"#FFB6C1\",\n",
    "                #                      padx=10, pady=10,\n",
    "                #                      relief=\"groove\", borderwidth=5)\n",
    "                # result_label.pack(pady=10)\n",
    "                found+=1\n",
    "                \n",
    "            q = prefix[q-1]\n",
    "        colnum += 1\n",
    "    end_time = time.time()\n",
    "    print('found_whole', found_whole)\n",
    "    print('found', found)\n",
    "    time_taken = start_time - end_time\n",
    "    return time_taken\n",
    "    "
   ]
  },
  {
   "cell_type": "code",
   "execution_count": 32,
   "id": "f243eca8-840b-4160-b4bf-569a44bc771e",
   "metadata": {},
   "outputs": [
    {
     "name": "stdout",
     "output_type": "stream",
     "text": [
      "found_whole 0\n",
      "found 0\n",
      "-0.16591358184814453\n"
     ]
    }
   ],
   "source": [
    "# pat = \"ababaca\"\n",
    "# text = \"bacbabababacaca\"\n",
    "print(kmp_matcher(text, pat,True ,True))\n",
    "# print(kmp_matcher(text, pat,False ,False))\n",
    "# prefix_function(pat)"
   ]
  },
  {
   "cell_type": "code",
   "execution_count": 19,
   "id": "e45fa39f-854b-4e3a-9b34-22662074f787",
   "metadata": {},
   "outputs": [
    {
     "data": {
      "text/plain": [
       "'!\"#$%&\\'()*+,-./:;<=>?@[\\\\]^_`{|}~'"
      ]
     },
     "execution_count": 19,
     "metadata": {},
     "output_type": "execute_result"
    }
   ],
   "source": [
    "# t = \"^This is a test document.\\nHere is another test line.\\n^And this test is another document.\"\n",
    "# pattern = \"test\"\n",
    "# matches = kmp_matcher(t, pattern, check=True)\n",
    "# print(f\"Total matches: {matches}\")\n",
    "string.punctuation"
   ]
  },
  {
   "cell_type": "code",
   "execution_count": 33,
   "id": "c2df0203-1430-4254-8f24-30aa8c68907e",
   "metadata": {},
   "outputs": [
    {
     "name": "stdout",
     "output_type": "stream",
     "text": [
      "found_whole 0\n",
      "found 0\n",
      "Example\n",
      "Example\n",
      "Example\n",
      "Example\n",
      "Example\n",
      "example\n",
      "example\n",
      "example\n",
      "example\n"
     ]
    }
   ],
   "source": [
    "from tkinter import *\n",
    "import tkinter as tk\n",
    "\n",
    "# creating Main Window\n",
    "root = tk.Tk()\n",
    "root.title(\"String Matching GUI\")\n",
    "root.geometry(\"2000x2000\")\n",
    "bg_image = PhotoImage(file=\"C:\\\\Users\\\\User\\\\Downloads\\\\PIC1.png\")\n",
    "# root.configure(bg=\"lightblue\")\n",
    "background_label = Label(root, image=bg_image)\n",
    "background_label.place(x=0, y=0,relheight=1) \n",
    "# background_label.pack()\n",
    "\n",
    "# below 4 lines will make sure the display is centered\n",
    "# root.grid_rowconfigure(0, weight=1)  \n",
    "# root.grid_rowconfigure(1, weight=1)\n",
    "# root.grid_columnconfigure(0, weight=1)  \n",
    "# root.grid_columnconfigure(1, weight=1) \n",
    "# root.grid_columnconfigure(2, weight=1)\n",
    "findwhat = '\\0'\n",
    "# first label of find what\n",
    "findwhat_label = Label(root,text=\"Find What: \",font=(\"Times New Roman\", 30,\"bold\"),bg='lightpink')\n",
    "findwhat_label.grid(row=22, column=1, padx=25, pady=50)\n",
    "# findwhat_label.pack(pady=40,padx=40)\n",
    "# findwhat_label.grid(row=5, column=3, padx=10, pady=10\n",
    "# now create a input entry text\n",
    "findwhat_entry = Entry(root, font=(\"Times New Roman\", 20),bg='lightpink')  \n",
    "findwhat_entry.grid(row=22, column=2, padx=1,pady=45) \n",
    "# findwhat_entry.pack()\n",
    "def get_text():\n",
    "    findwhat = findwhat_entry.get()\n",
    "    print(findwhat)\n",
    "    \n",
    "def clear_input():\n",
    "    # when clear button will be clicked we will empty the text written on \n",
    "    # text box\n",
    "    findwhat_entry.delete(0, END)\n",
    "# findwhat_entry.grid(row=5, column=5, padx=10, pady=10)\n",
    "# now I will create a button to the left of findwhat_entry\n",
    "findwhat_button = Button(root, text=\"Find Next\", font=(\"Times New Roman\", 20),bg='lightpink',highlightbackground=\"lightpink\",highlightcolor=\"lightpink\",highlightthickness=5,borderwidth=0,command=get_text)           \n",
    "# findwhat_button.grid(row=0, column=1, padx=10, pady=10)\n",
    "# findwhat_button.grid(row=0, column=2, padx=13, pady=13,sticky=\"w\")\n",
    "findwhat_button.grid(row=22, column=3, padx=2, pady=40)\n",
    "# findwhat_button.pack()\n",
    "# next button of cancel\n",
    "# by pressing cancel we will automatically erase the content written in the text box\n",
    "cancel_button = tk.Button(root, text=\"Cancel\", font=(\"Times New Roman\", 20),bg='lightpink',highlightbackground=\"lightpink\",highlightcolor=\"lightpink\",highlightthickness=5,borderwidth=0,command=clear_input)         \n",
    "cancel_button.grid(row=22, column=4)\n",
    "# cancel_button.pack()\n",
    "# checkbox for Match Whole Word Only\n",
    "match_whole_word = IntVar()\n",
    "checkbox = Checkbutton(root, text=\"Match Whole Word Only\", variable=match_whole_word, font=(\"Times New Roman\", 20), bg='lightpink')\n",
    "checkbox.grid(row=23, column=2,pady=0)\n",
    "# checkbox.grid(row=1, column=1, pady=13,sticky=\"n\")\n",
    "# checkbox.pack()\n",
    "# for matching String Cases\n",
    "match_case = IntVar()\n",
    "checkbox2 = Checkbutton(root, text=\"Match Case\", variable=match_case, font=(\"Times New Roman\", 20), bg='lightpink')\n",
    "checkbox2.grid(row=24,column=2,padx=20,pady=20)\n",
    "if checkbox == 0:\n",
    "    checkbox = False\n",
    "else:\n",
    "    checkbox = True\n",
    "if checkbox2 == 0:\n",
    "    checkbox2 = False\n",
    "else:\n",
    "    checkbox2 = True\n",
    "kmp_matcher(text, findwhat, checkbox, checkbox2)\n",
    "root.mainloop()\n"
   ]
  },
  {
   "cell_type": "code",
   "execution_count": null,
   "id": "bbda08fa-ca06-4840-86bc-964e74367859",
   "metadata": {},
   "outputs": [],
   "source": [
    "!pip install tKinter"
   ]
  },
  {
   "cell_type": "code",
   "execution_count": null,
   "id": "1c2fe8aa-2390-42e7-b778-3f48e61227f4",
   "metadata": {},
   "outputs": [],
   "source": []
  }
 ],
 "metadata": {
  "kernelspec": {
   "display_name": "Python 3 (ipykernel)",
   "language": "python",
   "name": "python3"
  },
  "language_info": {
   "codemirror_mode": {
    "name": "ipython",
    "version": 3
   },
   "file_extension": ".py",
   "mimetype": "text/x-python",
   "name": "python",
   "nbconvert_exporter": "python",
   "pygments_lexer": "ipython3",
   "version": "3.12.4"
  }
 },
 "nbformat": 4,
 "nbformat_minor": 5
}
